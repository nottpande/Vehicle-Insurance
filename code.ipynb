{
 "cells": [
  {
   "cell_type": "code",
   "execution_count": 211,
   "id": "5f0d37f1-b89e-429e-b936-fe7bc35599f7",
   "metadata": {},
   "outputs": [],
   "source": [
    "import pandas as pd\n",
    "import tensorflow as tf\n",
    "from sklearn.preprocessing import OneHotEncoder\n",
    "from sklearn.preprocessing import LabelEncoder\n",
    "from sklearn.model_selection import train_test_split\n",
    "from sklearn.preprocessing import StandardScaler\n",
    "from sklearn.metrics import confusion_matrix, accuracy_score"
   ]
  },
  {
   "cell_type": "code",
   "execution_count": 212,
   "id": "f0e0f8e1-eda7-4a33-bb62-ac010f178b9d",
   "metadata": {},
   "outputs": [],
   "source": [
    "df = pd.read_csv('train.csv')"
   ]
  },
  {
   "cell_type": "markdown",
   "id": "eac0f152-6ceb-4897-b16a-a0010ffa4a2c",
   "metadata": {},
   "source": [
    "<font size = '5'>  DATA PREPROCESSING"
   ]
  },
  {
   "cell_type": "markdown",
   "id": "08d760ef-888c-4dd3-875d-ad78a0b590a6",
   "metadata": {},
   "source": [
    "<font size = '3'> Finding out if there is any NULL value present in the dataset"
   ]
  },
  {
   "cell_type": "code",
   "execution_count": 213,
   "id": "8c7d9e34-c277-447a-8e76-d7b2a94acfbb",
   "metadata": {},
   "outputs": [
    {
     "data": {
      "text/plain": [
       "Index([], dtype='object')"
      ]
     },
     "execution_count": 213,
     "metadata": {},
     "output_type": "execute_result"
    }
   ],
   "source": [
    "df.columns[df.isna().any()]"
   ]
  },
  {
   "cell_type": "markdown",
   "id": "5774df31-560c-41dd-a5e4-1a3580bf7462",
   "metadata": {},
   "source": [
    "<font size = '3'> Hence there is no NULL value present in the dataset"
   ]
  },
  {
   "cell_type": "markdown",
   "id": "936ba088-5d9c-4661-8950-1a342d863c27",
   "metadata": {},
   "source": [
    "<font size = '3'> Ohe Hot Encoding and Label Encoding the categorical datas"
   ]
  },
  {
   "cell_type": "code",
   "execution_count": 214,
   "id": "39eea5d5-6c87-4a9a-98fc-30ee68c1ddc0",
   "metadata": {},
   "outputs": [],
   "source": [
    "ohe = OneHotEncoder(handle_unknown='ignore', sparse_output= False).set_output(transform='pandas')\n",
    "encoded_vehicle_age = ohe.fit_transform(df[['Vehicle_Age']])\n",
    "encoded_gender = ohe.fit_transform(df[['Gender']])"
   ]
  },
  {
   "cell_type": "code",
   "execution_count": 215,
   "id": "f2f3f520-2bc1-4bb7-a37b-fc6b6f024fec",
   "metadata": {},
   "outputs": [],
   "source": [
    "le = LabelEncoder()\n",
    "df.Vehicle_Damage = le.fit_transform(df.Vehicle_Damage)"
   ]
  },
  {
   "cell_type": "markdown",
   "id": "918b5a39-b8c8-4f0d-b6ff-1e7ce67636b7",
   "metadata": {},
   "source": [
    "<font size = '3'> Creating the final dataframes"
   ]
  },
  {
   "cell_type": "code",
   "execution_count": 216,
   "id": "f5f987b7-76e3-4f5b-9b26-25806dfbb4e5",
   "metadata": {},
   "outputs": [],
   "source": [
    "df = pd.concat([df,encoded_vehicle_age,encoded_gender],axis=1)\n",
    "df = df.drop(['id','Gender','Age','Region_Code','Vehicle_Age','Annual_Premium','Policy_Sales_Channel','Vintage'],axis=1)"
   ]
  },
  {
   "cell_type": "code",
   "execution_count": null,
   "id": "857ddb42-e605-4d1a-9eba-352dd2c74846",
   "metadata": {},
   "outputs": [],
   "source": []
  },
  {
   "cell_type": "markdown",
   "id": "ace22f02-9c50-4c94-a808-9a00b3c0eea1",
   "metadata": {},
   "source": [
    "<font size = '3'> The Final Train Dataset"
   ]
  },
  {
   "cell_type": "code",
   "execution_count": 217,
   "id": "a9ac0887-22e6-486f-8a5d-848c7f81df49",
   "metadata": {
    "scrolled": true
   },
   "outputs": [
    {
     "data": {
      "text/html": [
       "<div>\n",
       "<style scoped>\n",
       "    .dataframe tbody tr th:only-of-type {\n",
       "        vertical-align: middle;\n",
       "    }\n",
       "\n",
       "    .dataframe tbody tr th {\n",
       "        vertical-align: top;\n",
       "    }\n",
       "\n",
       "    .dataframe thead th {\n",
       "        text-align: right;\n",
       "    }\n",
       "</style>\n",
       "<table border=\"1\" class=\"dataframe\">\n",
       "  <thead>\n",
       "    <tr style=\"text-align: right;\">\n",
       "      <th></th>\n",
       "      <th>Driving_License</th>\n",
       "      <th>Previously_Insured</th>\n",
       "      <th>Vehicle_Damage</th>\n",
       "      <th>Response</th>\n",
       "      <th>Vehicle_Age_1-2 Year</th>\n",
       "      <th>Vehicle_Age_&lt; 1 Year</th>\n",
       "      <th>Vehicle_Age_&gt; 2 Years</th>\n",
       "      <th>Gender_Female</th>\n",
       "      <th>Gender_Male</th>\n",
       "    </tr>\n",
       "  </thead>\n",
       "  <tbody>\n",
       "    <tr>\n",
       "      <th>0</th>\n",
       "      <td>1</td>\n",
       "      <td>0</td>\n",
       "      <td>1</td>\n",
       "      <td>1</td>\n",
       "      <td>0.0</td>\n",
       "      <td>0.0</td>\n",
       "      <td>1.0</td>\n",
       "      <td>0.0</td>\n",
       "      <td>1.0</td>\n",
       "    </tr>\n",
       "    <tr>\n",
       "      <th>1</th>\n",
       "      <td>1</td>\n",
       "      <td>0</td>\n",
       "      <td>0</td>\n",
       "      <td>0</td>\n",
       "      <td>1.0</td>\n",
       "      <td>0.0</td>\n",
       "      <td>0.0</td>\n",
       "      <td>0.0</td>\n",
       "      <td>1.0</td>\n",
       "    </tr>\n",
       "    <tr>\n",
       "      <th>2</th>\n",
       "      <td>1</td>\n",
       "      <td>0</td>\n",
       "      <td>1</td>\n",
       "      <td>1</td>\n",
       "      <td>0.0</td>\n",
       "      <td>0.0</td>\n",
       "      <td>1.0</td>\n",
       "      <td>0.0</td>\n",
       "      <td>1.0</td>\n",
       "    </tr>\n",
       "    <tr>\n",
       "      <th>3</th>\n",
       "      <td>1</td>\n",
       "      <td>1</td>\n",
       "      <td>0</td>\n",
       "      <td>0</td>\n",
       "      <td>0.0</td>\n",
       "      <td>1.0</td>\n",
       "      <td>0.0</td>\n",
       "      <td>0.0</td>\n",
       "      <td>1.0</td>\n",
       "    </tr>\n",
       "    <tr>\n",
       "      <th>4</th>\n",
       "      <td>1</td>\n",
       "      <td>1</td>\n",
       "      <td>0</td>\n",
       "      <td>0</td>\n",
       "      <td>0.0</td>\n",
       "      <td>1.0</td>\n",
       "      <td>0.0</td>\n",
       "      <td>1.0</td>\n",
       "      <td>0.0</td>\n",
       "    </tr>\n",
       "    <tr>\n",
       "      <th>...</th>\n",
       "      <td>...</td>\n",
       "      <td>...</td>\n",
       "      <td>...</td>\n",
       "      <td>...</td>\n",
       "      <td>...</td>\n",
       "      <td>...</td>\n",
       "      <td>...</td>\n",
       "      <td>...</td>\n",
       "      <td>...</td>\n",
       "    </tr>\n",
       "    <tr>\n",
       "      <th>381104</th>\n",
       "      <td>1</td>\n",
       "      <td>1</td>\n",
       "      <td>0</td>\n",
       "      <td>0</td>\n",
       "      <td>1.0</td>\n",
       "      <td>0.0</td>\n",
       "      <td>0.0</td>\n",
       "      <td>0.0</td>\n",
       "      <td>1.0</td>\n",
       "    </tr>\n",
       "    <tr>\n",
       "      <th>381105</th>\n",
       "      <td>1</td>\n",
       "      <td>1</td>\n",
       "      <td>0</td>\n",
       "      <td>0</td>\n",
       "      <td>0.0</td>\n",
       "      <td>1.0</td>\n",
       "      <td>0.0</td>\n",
       "      <td>0.0</td>\n",
       "      <td>1.0</td>\n",
       "    </tr>\n",
       "    <tr>\n",
       "      <th>381106</th>\n",
       "      <td>1</td>\n",
       "      <td>1</td>\n",
       "      <td>0</td>\n",
       "      <td>0</td>\n",
       "      <td>0.0</td>\n",
       "      <td>1.0</td>\n",
       "      <td>0.0</td>\n",
       "      <td>0.0</td>\n",
       "      <td>1.0</td>\n",
       "    </tr>\n",
       "    <tr>\n",
       "      <th>381107</th>\n",
       "      <td>1</td>\n",
       "      <td>0</td>\n",
       "      <td>1</td>\n",
       "      <td>0</td>\n",
       "      <td>0.0</td>\n",
       "      <td>0.0</td>\n",
       "      <td>1.0</td>\n",
       "      <td>1.0</td>\n",
       "      <td>0.0</td>\n",
       "    </tr>\n",
       "    <tr>\n",
       "      <th>381108</th>\n",
       "      <td>1</td>\n",
       "      <td>0</td>\n",
       "      <td>0</td>\n",
       "      <td>0</td>\n",
       "      <td>1.0</td>\n",
       "      <td>0.0</td>\n",
       "      <td>0.0</td>\n",
       "      <td>0.0</td>\n",
       "      <td>1.0</td>\n",
       "    </tr>\n",
       "  </tbody>\n",
       "</table>\n",
       "<p>381109 rows × 9 columns</p>\n",
       "</div>"
      ],
      "text/plain": [
       "        Driving_License  Previously_Insured  Vehicle_Damage  Response  \\\n",
       "0                     1                   0               1         1   \n",
       "1                     1                   0               0         0   \n",
       "2                     1                   0               1         1   \n",
       "3                     1                   1               0         0   \n",
       "4                     1                   1               0         0   \n",
       "...                 ...                 ...             ...       ...   \n",
       "381104                1                   1               0         0   \n",
       "381105                1                   1               0         0   \n",
       "381106                1                   1               0         0   \n",
       "381107                1                   0               1         0   \n",
       "381108                1                   0               0         0   \n",
       "\n",
       "        Vehicle_Age_1-2 Year  Vehicle_Age_< 1 Year  Vehicle_Age_> 2 Years  \\\n",
       "0                        0.0                   0.0                    1.0   \n",
       "1                        1.0                   0.0                    0.0   \n",
       "2                        0.0                   0.0                    1.0   \n",
       "3                        0.0                   1.0                    0.0   \n",
       "4                        0.0                   1.0                    0.0   \n",
       "...                      ...                   ...                    ...   \n",
       "381104                   1.0                   0.0                    0.0   \n",
       "381105                   0.0                   1.0                    0.0   \n",
       "381106                   0.0                   1.0                    0.0   \n",
       "381107                   0.0                   0.0                    1.0   \n",
       "381108                   1.0                   0.0                    0.0   \n",
       "\n",
       "        Gender_Female  Gender_Male  \n",
       "0                 0.0          1.0  \n",
       "1                 0.0          1.0  \n",
       "2                 0.0          1.0  \n",
       "3                 0.0          1.0  \n",
       "4                 1.0          0.0  \n",
       "...               ...          ...  \n",
       "381104            0.0          1.0  \n",
       "381105            0.0          1.0  \n",
       "381106            0.0          1.0  \n",
       "381107            1.0          0.0  \n",
       "381108            0.0          1.0  \n",
       "\n",
       "[381109 rows x 9 columns]"
      ]
     },
     "execution_count": 217,
     "metadata": {},
     "output_type": "execute_result"
    }
   ],
   "source": [
    "df"
   ]
  },
  {
   "cell_type": "markdown",
   "id": "4093f90c-5dd0-41c2-b932-26ae181cdbe4",
   "metadata": {},
   "source": [
    "<font size = '3'> Splitting the input dataframe into X_train and Y_train"
   ]
  },
  {
   "cell_type": "code",
   "execution_count": 218,
   "id": "ca28d8e5-cb02-47fd-8725-ca0eb379ae74",
   "metadata": {},
   "outputs": [],
   "source": [
    "Y_train=df.Response\n",
    "X_train=df.drop('Response',axis=1)"
   ]
  },
  {
   "cell_type": "markdown",
   "id": "d7cf9824-6089-4da1-9757-362cd9f44a5b",
   "metadata": {},
   "source": [
    "<font size = '3'> Scaling the datasets (both train and test)"
   ]
  },
  {
   "cell_type": "code",
   "execution_count": 219,
   "id": "e6d8d33d-23f8-4223-ad85-06e112b1795d",
   "metadata": {},
   "outputs": [],
   "source": [
    "X_train, X_test, Y_train, Y_test = train_test_split(X_train, Y_train, test_size=0.2, random_state=42)"
   ]
  },
  {
   "cell_type": "code",
   "execution_count": 220,
   "id": "e14c0428-b80a-41b8-9c0e-4a918bca3310",
   "metadata": {},
   "outputs": [
    {
     "name": "stderr",
     "output_type": "stream",
     "text": [
      "C:\\Users\\Aditya Pande\\AppData\\Local\\Programs\\Python\\Python311\\Lib\\site-packages\\sklearn\\base.py:464: UserWarning: X does not have valid feature names, but StandardScaler was fitted with feature names\n",
      "  warnings.warn(\n"
     ]
    }
   ],
   "source": [
    "scale = StandardScaler()\n",
    "X_train = scale.fit_transform(X_train)\n",
    "X_test = scale.transform(X_val)"
   ]
  },
  {
   "cell_type": "markdown",
   "id": "b787cc08-3373-4025-999a-2c06b139d619",
   "metadata": {},
   "source": [
    " "
   ]
  },
  {
   "cell_type": "markdown",
   "id": "750ab873-30e0-4ac1-8a95-000e5efbb9bb",
   "metadata": {},
   "source": [
    "<font size = '5'> CREATING THE NEURAL NETWORK"
   ]
  },
  {
   "cell_type": "code",
   "execution_count": 221,
   "id": "e31912d3-8a47-4148-ac4c-fdfe07cf59cc",
   "metadata": {},
   "outputs": [],
   "source": [
    "nn = tf.keras.models.Sequential()"
   ]
  },
  {
   "cell_type": "code",
   "execution_count": 222,
   "id": "5498e45b-24af-4844-9f23-0bcda20bf6fd",
   "metadata": {},
   "outputs": [],
   "source": [
    "nn.add(tf.keras.layers.Dense(units = 625, activation = 'relu'))\n",
    "nn.add(tf.keras.layers.Dense(units = 125, activation = 'relu'))\n",
    "nn.add(tf.keras.layers.Dense(units = 25, activation = 'relu'))\n",
    "nn.add(tf.keras.layers.Dense(units = 5, activation = 'relu'))\n",
    "nn.add(tf.keras.layers.Dense(units = 1, activation = 'sigmoid'))"
   ]
  },
  {
   "cell_type": "code",
   "execution_count": 223,
   "id": "04161d6f-6d00-48ad-9e7e-a42c74af3be5",
   "metadata": {},
   "outputs": [],
   "source": [
    "nn.compile(optimizer='adam', loss = 'binary_crossentropy', metrics = ['accuracy'])"
   ]
  },
  {
   "cell_type": "code",
   "execution_count": 224,
   "id": "7031248d-6065-4e61-b7f8-3d9752d13a56",
   "metadata": {},
   "outputs": [
    {
     "name": "stdout",
     "output_type": "stream",
     "text": [
      "Epoch 1/100\n",
      "9528/9528 [==============================] - 25s 2ms/step - loss: 0.2795 - accuracy: 0.8780\n",
      "Epoch 2/100\n",
      "9528/9528 [==============================] - 35s 4ms/step - loss: 0.2781 - accuracy: 0.8780\n",
      "Epoch 3/100\n",
      "9528/9528 [==============================] - 36s 4ms/step - loss: 0.2779 - accuracy: 0.8780\n",
      "Epoch 4/100\n",
      "9528/9528 [==============================] - 38s 4ms/step - loss: 0.2778 - accuracy: 0.8780\n",
      "Epoch 5/100\n",
      "9528/9528 [==============================] - 35s 4ms/step - loss: 0.2777 - accuracy: 0.8780\n",
      "Epoch 6/100\n",
      "9528/9528 [==============================] - 35s 4ms/step - loss: 0.2777 - accuracy: 0.8780\n",
      "Epoch 7/100\n",
      "9528/9528 [==============================] - 35s 4ms/step - loss: 0.2776 - accuracy: 0.8780\n",
      "Epoch 8/100\n",
      "9528/9528 [==============================] - 36s 4ms/step - loss: 0.2777 - accuracy: 0.8780\n",
      "Epoch 9/100\n",
      "9528/9528 [==============================] - 36s 4ms/step - loss: 0.2776 - accuracy: 0.8780\n",
      "Epoch 10/100\n",
      "9528/9528 [==============================] - 35s 4ms/step - loss: 0.2776 - accuracy: 0.8780\n",
      "Epoch 11/100\n",
      "9528/9528 [==============================] - 34s 4ms/step - loss: 0.2776 - accuracy: 0.8780\n",
      "Epoch 12/100\n",
      "9528/9528 [==============================] - 36s 4ms/step - loss: 0.2775 - accuracy: 0.8780\n",
      "Epoch 13/100\n",
      "9528/9528 [==============================] - 34s 4ms/step - loss: 0.2776 - accuracy: 0.8780\n",
      "Epoch 14/100\n",
      "9528/9528 [==============================] - 31s 3ms/step - loss: 0.2775 - accuracy: 0.8780\n",
      "Epoch 15/100\n",
      "9528/9528 [==============================] - 35s 4ms/step - loss: 0.2775 - accuracy: 0.8780\n",
      "Epoch 16/100\n",
      "9528/9528 [==============================] - 35s 4ms/step - loss: 0.2775 - accuracy: 0.8780\n",
      "Epoch 17/100\n",
      "9528/9528 [==============================] - 36s 4ms/step - loss: 0.2775 - accuracy: 0.8780\n",
      "Epoch 18/100\n",
      "9528/9528 [==============================] - 34s 4ms/step - loss: 0.2776 - accuracy: 0.8780\n",
      "Epoch 19/100\n",
      "9528/9528 [==============================] - 35s 4ms/step - loss: 0.2776 - accuracy: 0.8780\n",
      "Epoch 20/100\n",
      "9528/9528 [==============================] - 30s 3ms/step - loss: 0.2776 - accuracy: 0.8780\n",
      "Epoch 21/100\n",
      "9528/9528 [==============================] - 24s 2ms/step - loss: 0.2776 - accuracy: 0.8780\n",
      "Epoch 22/100\n",
      "9528/9528 [==============================] - 38s 4ms/step - loss: 0.2775 - accuracy: 0.8780\n",
      "Epoch 23/100\n",
      "9528/9528 [==============================] - 36s 4ms/step - loss: 0.2776 - accuracy: 0.8780\n",
      "Epoch 24/100\n",
      "9528/9528 [==============================] - 34s 4ms/step - loss: 0.2776 - accuracy: 0.8780\n",
      "Epoch 25/100\n",
      "9528/9528 [==============================] - 36s 4ms/step - loss: 0.2776 - accuracy: 0.8780\n",
      "Epoch 26/100\n",
      "9528/9528 [==============================] - 35s 4ms/step - loss: 0.2775 - accuracy: 0.8780\n",
      "Epoch 27/100\n",
      "9528/9528 [==============================] - 39s 4ms/step - loss: 0.2776 - accuracy: 0.8780\n",
      "Epoch 28/100\n",
      "9528/9528 [==============================] - 38s 4ms/step - loss: 0.2776 - accuracy: 0.8780\n",
      "Epoch 29/100\n",
      "9528/9528 [==============================] - 44s 5ms/step - loss: 0.2775 - accuracy: 0.8780\n",
      "Epoch 30/100\n",
      "9528/9528 [==============================] - 36s 4ms/step - loss: 0.2776 - accuracy: 0.8780\n",
      "Epoch 31/100\n",
      "9528/9528 [==============================] - 34s 4ms/step - loss: 0.2775 - accuracy: 0.8780\n",
      "Epoch 32/100\n",
      "9528/9528 [==============================] - 37s 4ms/step - loss: 0.2775 - accuracy: 0.8780\n",
      "Epoch 33/100\n",
      "9528/9528 [==============================] - 33s 3ms/step - loss: 0.2776 - accuracy: 0.8780\n",
      "Epoch 34/100\n",
      "9528/9528 [==============================] - 31s 3ms/step - loss: 0.2776 - accuracy: 0.8780\n",
      "Epoch 35/100\n",
      "9528/9528 [==============================] - 35s 4ms/step - loss: 0.2775 - accuracy: 0.8780\n",
      "Epoch 36/100\n",
      "9528/9528 [==============================] - 38s 4ms/step - loss: 0.2775 - accuracy: 0.8780\n",
      "Epoch 37/100\n",
      "9528/9528 [==============================] - 38s 4ms/step - loss: 0.2775 - accuracy: 0.8780\n",
      "Epoch 38/100\n",
      "9528/9528 [==============================] - 38s 4ms/step - loss: 0.2775 - accuracy: 0.8780\n",
      "Epoch 39/100\n",
      "9528/9528 [==============================] - 39s 4ms/step - loss: 0.2774 - accuracy: 0.8780\n",
      "Epoch 40/100\n",
      "9528/9528 [==============================] - 36s 4ms/step - loss: 0.2775 - accuracy: 0.8780\n",
      "Epoch 41/100\n",
      "9528/9528 [==============================] - 37s 4ms/step - loss: 0.2775 - accuracy: 0.8780\n",
      "Epoch 42/100\n",
      "9528/9528 [==============================] - 39s 4ms/step - loss: 0.2775 - accuracy: 0.8780\n",
      "Epoch 43/100\n",
      "9528/9528 [==============================] - 37s 4ms/step - loss: 0.2775 - accuracy: 0.8780\n",
      "Epoch 44/100\n",
      "9528/9528 [==============================] - 34s 4ms/step - loss: 0.2775 - accuracy: 0.8780\n",
      "Epoch 45/100\n",
      "9528/9528 [==============================] - 36s 4ms/step - loss: 0.2775 - accuracy: 0.8780\n",
      "Epoch 46/100\n",
      "9528/9528 [==============================] - 37s 4ms/step - loss: 0.2775 - accuracy: 0.8780\n",
      "Epoch 47/100\n",
      "9528/9528 [==============================] - 36s 4ms/step - loss: 0.2779 - accuracy: 0.8780\n",
      "Epoch 48/100\n",
      "9528/9528 [==============================] - 33s 3ms/step - loss: 0.2774 - accuracy: 0.8780\n",
      "Epoch 49/100\n",
      "9528/9528 [==============================] - 36s 4ms/step - loss: 0.2775 - accuracy: 0.8780\n",
      "Epoch 50/100\n",
      "9528/9528 [==============================] - 36s 4ms/step - loss: 0.2777 - accuracy: 0.8780\n",
      "Epoch 51/100\n",
      "9528/9528 [==============================] - 34s 4ms/step - loss: 0.2775 - accuracy: 0.8780\n",
      "Epoch 52/100\n",
      "9528/9528 [==============================] - 39s 4ms/step - loss: 0.2775 - accuracy: 0.8780\n",
      "Epoch 53/100\n",
      "9528/9528 [==============================] - 37s 4ms/step - loss: 0.2775 - accuracy: 0.8780\n",
      "Epoch 54/100\n",
      "9528/9528 [==============================] - 40s 4ms/step - loss: 0.2775 - accuracy: 0.8780\n",
      "Epoch 55/100\n",
      "9528/9528 [==============================] - 43s 5ms/step - loss: 0.2774 - accuracy: 0.8780\n",
      "Epoch 56/100\n",
      "9528/9528 [==============================] - 41s 4ms/step - loss: 0.2776 - accuracy: 0.8780\n",
      "Epoch 57/100\n",
      "9528/9528 [==============================] - 39s 4ms/step - loss: 0.2775 - accuracy: 0.8780\n",
      "Epoch 58/100\n",
      "9528/9528 [==============================] - 35s 4ms/step - loss: 0.2775 - accuracy: 0.8780\n",
      "Epoch 59/100\n",
      "9528/9528 [==============================] - 38s 4ms/step - loss: 0.2776 - accuracy: 0.8780\n",
      "Epoch 60/100\n",
      "9528/9528 [==============================] - 36s 4ms/step - loss: 0.2775 - accuracy: 0.8780\n",
      "Epoch 61/100\n",
      "9528/9528 [==============================] - 41s 4ms/step - loss: 0.2775 - accuracy: 0.8780\n",
      "Epoch 62/100\n",
      "9528/9528 [==============================] - 40s 4ms/step - loss: 0.2775 - accuracy: 0.8780\n",
      "Epoch 63/100\n",
      "9528/9528 [==============================] - 38s 4ms/step - loss: 0.2774 - accuracy: 0.8780\n",
      "Epoch 64/100\n",
      "9528/9528 [==============================] - 38s 4ms/step - loss: 0.2775 - accuracy: 0.8780\n",
      "Epoch 65/100\n",
      "9528/9528 [==============================] - 40s 4ms/step - loss: 0.2775 - accuracy: 0.8780\n",
      "Epoch 66/100\n",
      "9528/9528 [==============================] - 35s 4ms/step - loss: 0.2775 - accuracy: 0.8780\n",
      "Epoch 67/100\n",
      "9528/9528 [==============================] - 33s 3ms/step - loss: 0.2775 - accuracy: 0.8780\n",
      "Epoch 68/100\n",
      "9528/9528 [==============================] - 36s 4ms/step - loss: 0.2775 - accuracy: 0.8780\n",
      "Epoch 69/100\n",
      "9528/9528 [==============================] - 41s 4ms/step - loss: 0.2775 - accuracy: 0.8780\n",
      "Epoch 70/100\n",
      "9528/9528 [==============================] - 39s 4ms/step - loss: 0.2776 - accuracy: 0.8780\n",
      "Epoch 71/100\n",
      "9528/9528 [==============================] - 38s 4ms/step - loss: 0.2775 - accuracy: 0.8780\n",
      "Epoch 72/100\n",
      "9528/9528 [==============================] - 38s 4ms/step - loss: 0.2775 - accuracy: 0.8780\n",
      "Epoch 73/100\n",
      "9528/9528 [==============================] - 38s 4ms/step - loss: 0.2776 - accuracy: 0.8780\n",
      "Epoch 74/100\n",
      "9528/9528 [==============================] - 40s 4ms/step - loss: 0.2776 - accuracy: 0.8780\n",
      "Epoch 75/100\n",
      "9528/9528 [==============================] - 40s 4ms/step - loss: 0.2775 - accuracy: 0.8780\n",
      "Epoch 76/100\n",
      "9528/9528 [==============================] - 36s 4ms/step - loss: 0.2775 - accuracy: 0.8780\n",
      "Epoch 77/100\n",
      "9528/9528 [==============================] - 35s 4ms/step - loss: 0.2776 - accuracy: 0.8780\n",
      "Epoch 78/100\n",
      "9528/9528 [==============================] - 39s 4ms/step - loss: 0.2775 - accuracy: 0.8780\n",
      "Epoch 79/100\n",
      "9528/9528 [==============================] - 41s 4ms/step - loss: 0.2776 - accuracy: 0.8780\n",
      "Epoch 80/100\n",
      "9528/9528 [==============================] - 38s 4ms/step - loss: 0.2775 - accuracy: 0.8780\n",
      "Epoch 81/100\n",
      "9528/9528 [==============================] - 37s 4ms/step - loss: 0.2775 - accuracy: 0.8780\n",
      "Epoch 82/100\n",
      "9528/9528 [==============================] - 42s 4ms/step - loss: 0.2776 - accuracy: 0.8780\n",
      "Epoch 83/100\n",
      "9528/9528 [==============================] - 39s 4ms/step - loss: 0.2775 - accuracy: 0.8780\n",
      "Epoch 84/100\n",
      "9528/9528 [==============================] - 41s 4ms/step - loss: 0.2775 - accuracy: 0.8780\n",
      "Epoch 85/100\n",
      "9528/9528 [==============================] - 37s 4ms/step - loss: 0.2775 - accuracy: 0.8780\n",
      "Epoch 86/100\n",
      "9528/9528 [==============================] - 34s 4ms/step - loss: 0.2775 - accuracy: 0.8780\n",
      "Epoch 87/100\n",
      "9528/9528 [==============================] - 26s 3ms/step - loss: 0.2775 - accuracy: 0.8780\n",
      "Epoch 88/100\n",
      "9528/9528 [==============================] - 24s 3ms/step - loss: 0.2775 - accuracy: 0.8780\n",
      "Epoch 89/100\n",
      "9528/9528 [==============================] - 25s 3ms/step - loss: 0.2776 - accuracy: 0.8780\n",
      "Epoch 90/100\n",
      "9528/9528 [==============================] - 25s 3ms/step - loss: 0.2775 - accuracy: 0.8780\n",
      "Epoch 91/100\n",
      "9528/9528 [==============================] - 26s 3ms/step - loss: 0.2775 - accuracy: 0.8780\n",
      "Epoch 92/100\n",
      "9528/9528 [==============================] - 34s 4ms/step - loss: 0.2775 - accuracy: 0.8780\n",
      "Epoch 93/100\n",
      "9528/9528 [==============================] - 30s 3ms/step - loss: 0.2775 - accuracy: 0.8780\n",
      "Epoch 94/100\n",
      "9528/9528 [==============================] - 25s 3ms/step - loss: 0.2775 - accuracy: 0.8780\n",
      "Epoch 95/100\n",
      "9528/9528 [==============================] - 25s 3ms/step - loss: 0.2775 - accuracy: 0.8780\n",
      "Epoch 96/100\n",
      "9528/9528 [==============================] - 25s 3ms/step - loss: 0.2775 - accuracy: 0.8780\n",
      "Epoch 97/100\n",
      "9528/9528 [==============================] - 25s 3ms/step - loss: 0.2776 - accuracy: 0.8780\n",
      "Epoch 98/100\n",
      "9528/9528 [==============================] - 26s 3ms/step - loss: 0.2775 - accuracy: 0.8780\n",
      "Epoch 99/100\n",
      "9528/9528 [==============================] - 27s 3ms/step - loss: 0.2775 - accuracy: 0.8780\n",
      "Epoch 100/100\n",
      "9528/9528 [==============================] - 29s 3ms/step - loss: 0.2774 - accuracy: 0.8780\n"
     ]
    },
    {
     "data": {
      "text/plain": [
       "<keras.src.callbacks.History at 0x2392aae6210>"
      ]
     },
     "execution_count": 224,
     "metadata": {},
     "output_type": "execute_result"
    }
   ],
   "source": [
    "nn.fit(X_train, Y_train, batch_size=32, epochs=100)"
   ]
  },
  {
   "cell_type": "markdown",
   "id": "41c19ac1-4b13-4339-bf0a-b25b9b8b06b0",
   "metadata": {},
   "source": [
    "<font size = '5'> PREDICTING USING TEST DATASET"
   ]
  },
  {
   "cell_type": "code",
   "execution_count": 229,
   "id": "ae548d46-0367-4a2e-93cb-dbcf527f996f",
   "metadata": {},
   "outputs": [
    {
     "name": "stdout",
     "output_type": "stream",
     "text": [
      "2382/2382 [==============================] - 4s 2ms/step\n",
      "[[False]\n",
      " [False]\n",
      " [False]\n",
      " ...\n",
      " [False]\n",
      " [False]\n",
      " [False]]\n"
     ]
    }
   ],
   "source": [
    "y_pred = nn.predict(X_test)\n",
    "y_pred = y_pred > 0.5\n",
    "print(y_pred)"
   ]
  },
  {
   "cell_type": "markdown",
   "id": "8e85eda0-7a3b-4d7e-8691-806957feb8bc",
   "metadata": {},
   "source": [
    "<font size = '5'> CONFUSION MATRIX AND ACCURACY"
   ]
  },
  {
   "cell_type": "code",
   "execution_count": 230,
   "id": "641fcdfb-e685-42f2-9b37-6ff729457c0b",
   "metadata": {},
   "outputs": [
    {
     "name": "stdout",
     "output_type": "stream",
     "text": [
      "[[66699     0]\n",
      " [ 9523     0]]\n"
     ]
    },
    {
     "data": {
      "text/plain": [
       "0.8750623179659416"
      ]
     },
     "execution_count": 230,
     "metadata": {},
     "output_type": "execute_result"
    }
   ],
   "source": [
    "cm = confusion_matrix(Y_test,y_pred)\n",
    "print(cm)\n",
    "accuracy_score(Y_test,y_pred)"
   ]
  }
 ],
 "metadata": {
  "kernelspec": {
   "display_name": "Python 3 (ipykernel)",
   "language": "python",
   "name": "python3"
  },
  "language_info": {
   "codemirror_mode": {
    "name": "ipython",
    "version": 3
   },
   "file_extension": ".py",
   "mimetype": "text/x-python",
   "name": "python",
   "nbconvert_exporter": "python",
   "pygments_lexer": "ipython3",
   "version": "3.11.4"
  }
 },
 "nbformat": 4,
 "nbformat_minor": 5
}
